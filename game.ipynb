{
 "cells": [
  {
   "cell_type": "code",
   "execution_count": null,
   "id": "4a18e71a-f41e-41bb-85f5-f75f0dafad22",
   "metadata": {},
   "outputs": [],
   "source": [
    "import main\n",
    "\n",
    "def game_function():\n",
    "    main.main()\n",
    "\n",
    "game_function()"
   ]
  },
  {
   "cell_type": "code",
   "execution_count": null,
   "id": "640bf55c-efed-408c-a89f-e9cca0279cb1",
   "metadata": {},
   "outputs": [],
   "source": []
  },
  {
   "cell_type": "code",
   "execution_count": null,
   "id": "809134cd-8440-42ea-a935-9da2bceb8213",
   "metadata": {},
   "outputs": [],
   "source": []
  },
  {
   "cell_type": "code",
   "execution_count": null,
   "id": "145bd254-3ecf-4529-ab85-62853d8218c7",
   "metadata": {},
   "outputs": [],
   "source": []
  }
 ],
 "metadata": {
  "kernelspec": {
   "display_name": "Python 3 (ipykernel)",
   "language": "python",
   "name": "python3"
  },
  "language_info": {
   "codemirror_mode": {
    "name": "ipython",
    "version": 3
   },
   "file_extension": ".py",
   "mimetype": "text/x-python",
   "name": "python",
   "nbconvert_exporter": "python",
   "pygments_lexer": "ipython3",
   "version": "3.12.3"
  }
 },
 "nbformat": 4,
 "nbformat_minor": 5
}
